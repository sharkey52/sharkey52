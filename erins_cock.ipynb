{
  "nbformat": 4,
  "nbformat_minor": 0,
  "metadata": {
    "colab": {
      "name": "Untitled4.ipynb",
      "provenance": [],
      "authorship_tag": "ABX9TyPKyK1tL4gZifB8HoD5b757",
      "include_colab_link": true
    },
    "kernelspec": {
      "name": "python3",
      "display_name": "Python 3"
    },
    "language_info": {
      "name": "python"
    }
  },
  "cells": [
    {
      "cell_type": "markdown",
      "metadata": {
        "id": "view-in-github",
        "colab_type": "text"
      },
      "source": [
        "<a href=\"https://colab.research.google.com/github/sharkey52/sharkey52/blob/main/erins_cock.ipynb\" target=\"_parent\"><img src=\"https://colab.research.google.com/assets/colab-badge.svg\" alt=\"Open In Colab\"/></a>"
      ]
    },
    {
      "cell_type": "code",
      "execution_count": null,
      "metadata": {
        "id": "KYt2mw3pgJXj"
      },
      "outputs": [],
      "source": [
        "#erins lists\n",
        "\n",
        "orangemojito = ['25ml white rum','25ml tripple sec','orange juice','lime juice','mint','lemonade']\n",
        "mojito = ['50ml white rum','lime juice','lemon juice','lemonade']\n",
        "pornstar = ['vanilla_vodka','passionfruit juice','sugar syrup']\n",
        "oldfashioned = ['whiskey','aromatic bitters','sugar syrup']\n",
        "whiskeysour = ['whiskey','lemon juice','sugar syrup']\n",
        "\n",
        "recipe = oldfashioned\n",
        "\n",
        "for item in recipe :\n",
        "    print(item )\n",
        "\n",
        "whiskey = 28\n",
        "vanilla_vodka = 28\n",
        "white_rum = 28\n",
        "\n",
        "def whiskey(recipe,whiskey):\n",
        "    if 'whiskey' in recipe:\n",
        "        whiskey -=1\n",
        "        return whiskey\n",
        "\n",
        "def vanilla_vodka(recipe,vanilla_vodka):\n",
        "    if 'vanilla_vodka' in recipe:\n",
        "        vanilla_vodka -=1\n",
        "        return vanilla_vodka\n",
        "\n",
        "whiskey = whiskey(recipe,whiskey)\n",
        "print(bottle)"
      ]
    }
  ]
}